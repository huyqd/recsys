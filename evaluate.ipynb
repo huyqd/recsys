{
 "cells": [
  {
   "cell_type": "code",
   "execution_count": null,
   "id": "36ef84ff-da8d-45f4-88af-ce7ca2a40053",
   "metadata": {},
   "outputs": [],
   "source": [
    "import pytorch_lightning as pl\n",
    "\n",
    "from dataset import ML1mDataset\n",
    "from metrics import get_eval_metrics\n",
    "from models import MODELS\n",
    "from utils import LightningMF"
   ]
  },
  {
   "cell_type": "code",
   "execution_count": null,
   "id": "8ec1a0c5-d150-41ca-96ea-55f6fcfb7f5b",
   "metadata": {},
   "outputs": [],
   "source": [
    "k = 10\n",
    "embedding_dim = 20\n",
    "model_name = \"GMF\""
   ]
  },
  {
   "cell_type": "code",
   "execution_count": null,
   "id": "788a6dad-2788-49bd-b400-3c7230507db8",
   "metadata": {},
   "outputs": [],
   "source": [
    "ds = ML1mDataset()\n",
    "n_users, n_items = ds.train_ds.n_users, ds.train_ds.n_items"
   ]
  },
  {
   "cell_type": "code",
   "execution_count": null,
   "id": "001258aa-4619-4d7e-9aec-62500c7e190c",
   "metadata": {},
   "outputs": [],
   "source": [
    "if model_name in (\"Popularity\", \"AlsMF\"):\n",
    "    model = MODELS[model_name](embedding_dim)\n",
    "    model.fit(ds)\n",
    "    scores = model(ds)\n",
    "    labels = ds.test_ds.test_pos[:, [1]]\n",
    "    ncdg, apak, hr = get_eval_metrics(scores, labels, k)\n",
    "else:\n",
    "    model = MODELS[model_name](n_users, n_items, embedding_dim)\n",
    "    recommender = LightningMF(model)\n",
    "    trainer = pl.Trainer(\n",
    "        max_epochs=200,\n",
    "        logger=False,\n",
    "        check_val_every_n_epoch=10,\n",
    "        checkpoint_callback=False,\n",
    "        num_sanity_val_steps=0,\n",
    "        gradient_clip_val=1,\n",
    "        gradient_clip_algorithm=\"norm\",\n",
    "    )\n",
    "\n",
    "    trainer.fit(recommender, train_dataloaders=ds.train_dl, val_dataloaders=ds.test_dl)"
   ]
  }
 ],
 "metadata": {
  "kernelspec": {
   "display_name": "Python 3",
   "language": "python",
   "name": "python3"
  },
  "language_info": {
   "codemirror_mode": {
    "name": "ipython",
    "version": 3
   },
   "file_extension": ".py",
   "mimetype": "text/x-python",
   "name": "python",
   "nbconvert_exporter": "python",
   "pygments_lexer": "ipython3",
   "version": "3.6.13"
  }
 },
 "nbformat": 4,
 "nbformat_minor": 5
}

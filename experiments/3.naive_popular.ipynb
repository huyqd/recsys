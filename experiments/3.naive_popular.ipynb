{
 "cells": [
  {
   "cell_type": "code",
   "execution_count": null,
   "id": "1b55640a-f44c-4d85-be7a-694d7267fa1c",
   "metadata": {
    "tags": []
   },
   "outputs": [],
   "source": [
    "%load_ext autoreload\n",
    "%autoreload 2"
   ]
  },
  {
   "cell_type": "code",
   "execution_count": null,
   "id": "22923c55-16f6-4bde-84e7-7da2d1736178",
   "metadata": {
    "tags": []
   },
   "outputs": [],
   "source": [
    "import pandas as pd\n",
    "import numpy as np\n",
    "from tqdm import tqdm\n",
    "import scipy.sparse as scs\n",
    "\n",
    "from recsys.utils import col\n",
    "from recsys.metrics import ndcg_score, get_ndcg, get_apak"
   ]
  },
  {
   "cell_type": "markdown",
   "id": "d781fce9-4709-4c6b-9a2e-482f3a159729",
   "metadata": {},
   "source": [
    "### Last one"
   ]
  },
  {
   "cell_type": "code",
   "execution_count": null,
   "id": "fe2d26e2-f192-4c81-9cbe-acb1bb89f27a",
   "metadata": {
    "tags": []
   },
   "outputs": [],
   "source": [
    "X = pd.read_parquet(\"../data/ml-1m/split/X_last_one.parquet\")\n",
    "y = pd.read_parquet(\"../data/ml-1m/split/y_last_one.parquet\")"
   ]
  },
  {
   "cell_type": "code",
   "execution_count": null,
   "id": "4f079838-44aa-48d3-8225-7ac0447a10d8",
   "metadata": {
    "tags": []
   },
   "outputs": [],
   "source": [
    "y_true = y[col.movie_code].to_numpy().reshape(-1, 1)\n",
    "\n",
    "user_movie_matrix = scs.csr_matrix(\n",
    "    (X[col.rating], (X[col.user_code], X[col.movie_code]))\n",
    ")"
   ]
  },
  {
   "cell_type": "code",
   "execution_count": null,
   "id": "e9f62555-a4b7-4632-aa14-985f9088fc11",
   "metadata": {
    "tags": []
   },
   "outputs": [],
   "source": [
    "# Most popular retrieval\n",
    "retrieval = np.asarray(user_movie_matrix.sum(axis=0)).repeat(user_movie_matrix.shape[0], axis=0)\n",
    "retrieval[user_movie_matrix.nonzero()] = -1\n",
    "retrieval = np.argsort(retrieval, axis=1)[:, ::-1]\n",
    "\n",
    "y_pred = retrieval[:, :10]"
   ]
  },
  {
   "cell_type": "code",
   "execution_count": null,
   "id": "6f77e01c-cf81-4d46-a3cf-0138d8580a9f",
   "metadata": {
    "tags": []
   },
   "outputs": [],
   "source": [
    "ndcg_score(y_true, y_pred)"
   ]
  },
  {
   "cell_type": "markdown",
   "id": "0a6c3d61-053e-4a50-bf74-4f341721c87b",
   "metadata": {},
   "source": [
    "### Last five"
   ]
  },
  {
   "cell_type": "code",
   "execution_count": null,
   "id": "f8c769f3-f3ed-4dde-b8db-f4ef519a6f91",
   "metadata": {
    "tags": []
   },
   "outputs": [],
   "source": [
    "X = pd.read_parquet(\"../data/ml-1m/split/X_last_five.parquet\")\n",
    "y = pd.read_parquet(\"../data/ml-1m/split/y_last_five.parquet\")"
   ]
  },
  {
   "cell_type": "code",
   "execution_count": null,
   "id": "4309eeb3-57bc-4466-9621-8dbea070943c",
   "metadata": {
    "tags": []
   },
   "outputs": [],
   "source": [
    "y_true = np.array(\n",
    "    y.groupby(col.user_code)[col.movie_code].unique().apply(list).tolist()\n",
    ")\n",
    "\n",
    "user_movie_matrix = scs.coo_matrix(\n",
    "    (X[col.rating], (X[col.user_code], X[col.movie_code]))\n",
    ").tocsr()"
   ]
  },
  {
   "cell_type": "code",
   "execution_count": null,
   "id": "994fd759-c275-49d5-8e19-9c6cfe1472d9",
   "metadata": {
    "tags": []
   },
   "outputs": [],
   "source": [
    "# Most popular retrieval\n",
    "retrieval = np.asarray(user_movie_matrix.sum(axis=0)).repeat(user_movie_matrix.shape[0], axis=0)\n",
    "retrieval[user_movie_matrix.nonzero()] = -1\n",
    "retrieval = np.argsort(retrieval, axis=1)[:, ::-1]\n",
    "\n",
    "y_pred = retrieval[:, :10]"
   ]
  },
  {
   "cell_type": "code",
   "execution_count": null,
   "id": "455f97a6-93e7-401e-8582-c28108ab2e23",
   "metadata": {
    "tags": []
   },
   "outputs": [],
   "source": [
    "ndcg_score(y_true, y_pred)"
   ]
  }
 ],
 "metadata": {
  "kernelspec": {
   "display_name": "Python 3 (ipykernel)",
   "language": "python",
   "name": "python3"
  },
  "language_info": {
   "codemirror_mode": {
    "name": "ipython",
    "version": 3
   },
   "file_extension": ".py",
   "mimetype": "text/x-python",
   "name": "python",
   "nbconvert_exporter": "python",
   "pygments_lexer": "ipython3",
   "version": "3.8.17"
  }
 },
 "nbformat": 4,
 "nbformat_minor": 5
}

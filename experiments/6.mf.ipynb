{
 "cells": [
  {
   "cell_type": "code",
   "execution_count": null,
   "id": "1b55640a-f44c-4d85-be7a-694d7267fa1c",
   "metadata": {
    "tags": []
   },
   "outputs": [],
   "source": [
    "%load_ext autoreload\n",
    "%autoreload 2"
   ]
  },
  {
   "cell_type": "code",
   "execution_count": null,
   "id": "13244b6e-75d8-464c-ab06-322ba88c6e03",
   "metadata": {
    "tags": []
   },
   "outputs": [],
   "source": [
    "import pandas as pd\n",
    "import numpy as np\n",
    "from tqdm.notebook import tqdm\n",
    "import scipy.sparse as scs\n",
    "import torch\n",
    "import torch.nn.functional as F\n",
    "\n",
    "from recsys.utils import col\n",
    "from recsys.metrics import ndcg_score, hr_score\n",
    "from recsys.models.mf import BareMF, BiasMF"
   ]
  },
  {
   "cell_type": "code",
   "execution_count": null,
   "id": "8f86a442-ddb0-455e-b233-7265f551dc1e",
   "metadata": {
    "tags": []
   },
   "outputs": [],
   "source": [
    "device = \"cuda\"\n",
    "torch.set_default_device(device)"
   ]
  },
  {
   "cell_type": "markdown",
   "id": "d781fce9-4709-4c6b-9a2e-482f3a159729",
   "metadata": {},
   "source": [
    "### Last one"
   ]
  },
  {
   "cell_type": "code",
   "execution_count": null,
   "id": "fe2d26e2-f192-4c81-9cbe-acb1bb89f27a",
   "metadata": {
    "tags": []
   },
   "outputs": [],
   "source": [
    "X = pd.read_parquet(\"../data/ml-1m/split/X_last_one.parquet\")\n",
    "y = pd.read_parquet(\"../data/ml-1m/split/y_last_one.parquet\")"
   ]
  },
  {
   "cell_type": "code",
   "execution_count": null,
   "id": "6e28a6af-8046-4a0a-9c4b-44ccfa61ef72",
   "metadata": {
    "tags": []
   },
   "outputs": [],
   "source": [
    "y_true = y[[col.movie_code]].to_numpy()\n",
    "\n",
    "test_array = np.hstack([y_true, np.array(y[col.negative].apply(list).tolist())])\n",
    "\n",
    "user_movie_matrix = scs.csr_matrix(\n",
    "    (X[col.rating], (X[col.user_code], X[col.movie_code]))\n",
    ")\n",
    "\n",
    "user_movie_matrix[user_movie_matrix.nonzero()] = 1"
   ]
  },
  {
   "cell_type": "code",
   "execution_count": null,
   "id": "b90edbce-da79-4578-9968-38547fcefe30",
   "metadata": {
    "tags": []
   },
   "outputs": [],
   "source": [
    "train_data = torch.utils.data.DataLoader(\n",
    "    np.hstack(\n",
    "        [\n",
    "            np.arange(user_movie_matrix.shape[0]).reshape(-1, 1),\n",
    "            user_movie_matrix.todense(),\n",
    "        ]\n",
    "    ),\n",
    "    batch_size=32,\n",
    "    shuffle=True,\n",
    "    generator=torch.Generator(device=device),\n",
    ")"
   ]
  },
  {
   "cell_type": "markdown",
   "id": "aea34c05-2177-444d-ae98-5d177ea2f150",
   "metadata": {},
   "source": [
    "#### BareMF"
   ]
  },
  {
   "cell_type": "code",
   "execution_count": null,
   "id": "c7a2ffef-3021-49b8-8906-6e4dc3f8df3d",
   "metadata": {
    "tags": []
   },
   "outputs": [],
   "source": [
    "model = BareMF(*user_movie_matrix.shape, 128).to(device)"
   ]
  },
  {
   "cell_type": "code",
   "execution_count": null,
   "id": "2eea41ae-3ab4-4d3e-9793-60ff328557b3",
   "metadata": {
    "tags": []
   },
   "outputs": [],
   "source": [
    "import torch\n",
    "import torch.nn as nn\n",
    "import torch.optim as optim\n",
    "\n",
    "# Define your model\n",
    "criterion = nn.BCEWithLogitsLoss()  # Choose your desired loss function\n",
    "optimizer = optim.SGD(model.parameters(), lr=100)\n",
    "num_epochs = 500\n",
    "\n",
    "# Define the gradient clipping value\n",
    "max_norm = 1.0\n",
    "\n",
    "# Training loop\n",
    "train_losses = []\n",
    "for epoch in tqdm(range(num_epochs)):\n",
    "    model.train()\n",
    "    running_losses = 0\n",
    "\n",
    "    for inputs in train_data:\n",
    "        inputs = inputs.squeeze(1)\n",
    "        uids, labels = inputs[:, 0], inputs[:, 1:]\n",
    "        optimizer.zero_grad()\n",
    "        outputs = model(uids)\n",
    "        loss = criterion(outputs, labels.float())\n",
    "        loss.backward()\n",
    "\n",
    "        # Perform gradient clipping\n",
    "        torch.nn.utils.clip_grad_norm_(model.parameters(), max_norm)\n",
    "\n",
    "        optimizer.step()\n",
    "\n",
    "        train_losses.append(loss.detach().item())\n",
    "        running_losses += loss.detach().item()\n",
    "\n",
    "    epoch_loss = running_losses / len(train_data)\n",
    "\n",
    "    # print the loss for each epoch\n",
    "    if epoch % 20 == 0 or epoch == num_epochs - 1:\n",
    "        model.eval()\n",
    "        with torch.no_grad():\n",
    "            retrieval = (\n",
    "                F.softmax(model(torch.arange(user_movie_matrix.shape[0])), dim=1)\n",
    "                .cpu()\n",
    "                .numpy()\n",
    "            )\n",
    "            y_pred = np.take_along_axis(\n",
    "                test_array,\n",
    "                np.argsort(np.take_along_axis(retrieval, test_array, axis=1), axis=1)[\n",
    "                    :, ::-1\n",
    "                ],\n",
    "                axis=1,\n",
    "            )[:, :10]\n",
    "\n",
    "        print(\n",
    "            f\"epoch [{epoch+1}/{num_epochs}], loss: {epoch_loss:.4f}, ndcg: {ndcg_score(y_true, y_pred):.4f}, hr: {hr_score(y_true, y_pred):.4f}\"\n",
    "        )"
   ]
  },
  {
   "cell_type": "markdown",
   "id": "23aafb51-eaab-48d0-87f1-ded60c30abfc",
   "metadata": {},
   "source": [
    "#### BiasMF"
   ]
  },
  {
   "cell_type": "code",
   "execution_count": null,
   "id": "36a5f481-30fc-4c91-856e-aaf5e83c0c46",
   "metadata": {
    "tags": []
   },
   "outputs": [],
   "source": [
    "model = BiasMF(*user_movie_matrix.shape, 128).to(device)"
   ]
  },
  {
   "cell_type": "code",
   "execution_count": null,
   "id": "0b869f03-700d-4583-9912-f31d1f18f86b",
   "metadata": {
    "tags": []
   },
   "outputs": [],
   "source": [
    "import torch\n",
    "import torch.nn as nn\n",
    "import torch.optim as optim\n",
    "\n",
    "# Define your model\n",
    "criterion = nn.BCEWithLogitsLoss()  # Choose your desired loss function\n",
    "optimizer = optim.Adam(model.parameters(), lr=1e-3)\n",
    "num_epochs = 500\n",
    "\n",
    "# Define the gradient clipping value\n",
    "max_norm = 1.0\n",
    "\n",
    "# Training loop\n",
    "train_losses = []\n",
    "for epoch in tqdm(range(num_epochs)):\n",
    "    model.train()\n",
    "    running_losses = 0\n",
    "\n",
    "    for inputs in train_data:\n",
    "        inputs = inputs.squeeze(1)\n",
    "        uids, labels = inputs[:, 0], inputs[:, 1:]\n",
    "        optimizer.zero_grad()\n",
    "        outputs = model(uids)\n",
    "        loss = criterion(outputs, labels.float())\n",
    "        loss.backward()\n",
    "\n",
    "        # Perform gradient clipping\n",
    "        torch.nn.utils.clip_grad_norm_(model.parameters(), max_norm)\n",
    "\n",
    "        optimizer.step()\n",
    "\n",
    "        train_losses.append(loss.detach().item())\n",
    "        running_losses += loss.detach().item()\n",
    "\n",
    "    epoch_loss = running_losses / len(train_data)\n",
    "\n",
    "    # print the loss for each epoch\n",
    "    if epoch % 20 == 0 or epoch == num_epochs - 1:\n",
    "        model.eval()\n",
    "        with torch.no_grad():\n",
    "            retrieval = (\n",
    "                F.softmax(model(torch.arange(user_movie_matrix.shape[0])), dim=1)\n",
    "                .cpu()\n",
    "                .numpy()\n",
    "            )\n",
    "            y_pred = np.take_along_axis(\n",
    "                test_array,\n",
    "                np.argsort(np.take_along_axis(retrieval, test_array, axis=1), axis=1)[\n",
    "                    :, ::-1\n",
    "                ],\n",
    "                axis=1,\n",
    "            )[:, :10]\n",
    "\n",
    "        print(\n",
    "            f\"epoch [{epoch+1}/{num_epochs}], loss: {epoch_loss:.4f}, ndcg: {ndcg_score(y_true, y_pred):.4f}, hr: {hr_score(y_true, y_pred):.4f}\"\n",
    "        )"
   ]
  }
 ],
 "metadata": {
  "kernelspec": {
   "display_name": "Python 3 (ipykernel)",
   "language": "python",
   "name": "python3"
  },
  "language_info": {
   "codemirror_mode": {
    "name": "ipython",
    "version": 3
   },
   "file_extension": ".py",
   "mimetype": "text/x-python",
   "name": "python",
   "nbconvert_exporter": "python",
   "pygments_lexer": "ipython3",
   "version": "3.8.17"
  }
 },
 "nbformat": 4,
 "nbformat_minor": 5
}

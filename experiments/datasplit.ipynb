{
 "cells": [
  {
   "cell_type": "code",
   "execution_count": null,
   "id": "13244b6e-75d8-464c-ab06-322ba88c6e03",
   "metadata": {
    "tags": []
   },
   "outputs": [],
   "source": [
    "import pandas as pd\n",
    "import numpy as np"
   ]
  },
  {
   "cell_type": "markdown",
   "id": "5f3da938-1bb9-4bf4-86ce-c1a5ca65ced0",
   "metadata": {},
   "source": [
    "### Ratings"
   ]
  },
  {
   "cell_type": "code",
   "execution_count": null,
   "id": "035053d6-3149-46f3-9301-0508e438bbb9",
   "metadata": {
    "tags": []
   },
   "outputs": [],
   "source": [
    "ratings = pd.read_csv(\n",
    "    \"../data/ml-1m/ratings.dat\",\n",
    "    sep=\"::\",\n",
    "    header=None,\n",
    "    names=[\"user_id\", \"movie_id\", \"rating\", \"timestamp\"],\n",
    "    dtype={\n",
    "        \"user_id\": np.int32,\n",
    "        \"movie_id\": np.int32,\n",
    "        \"ratings\": np.float32,\n",
    "        \"timestamp\": np.int64,\n",
    "    },\n",
    "    engine=\"python\",\n",
    "    encoding=\"ISO-8859-1\",\n",
    ")\n",
    "ratings[\"timestamp\"] = pd.to_datetime(ratings[\"timestamp\"], unit=\"s\")\n",
    "\n",
    "ratings = ratings.sort_values(\n",
    "    [\"user_id\", \"timestamp\"], ascending=[True, False], ignore_index=True\n",
    ")\n",
    "\n",
    "ratings[\"order\"] = ratings.groupby(\"user_id\").cumcount()\n",
    "\n",
    "ratings.head(10)"
   ]
  },
  {
   "cell_type": "markdown",
   "id": "125a438a-158b-4a55-9032-e0a692b559ee",
   "metadata": {},
   "source": [
    "### Split data"
   ]
  },
  {
   "cell_type": "code",
   "execution_count": null,
   "id": "684d6052-237a-4b91-89fd-3831ed6269cf",
   "metadata": {
    "tags": []
   },
   "outputs": [],
   "source": [
    "# from sklearn.model_selection import train_test_split\n",
    "\n",
    "# user_id = ratings[\"user_id\"].unique()\n",
    "\n",
    "# train_user_ids, test_user_ids = train_test_split(\n",
    "#     user_id, test_size=0.1, random_state=47\n",
    "# )\n",
    "\n",
    "# train_ratings = ratings.query(\"user_id in @train_user_ids\")\n",
    "# test_ratings = ratings.query(\"user_id in @test_user_ids\")\n",
    "\n",
    "# print(train_user_ids.shape)\n",
    "# print(test_user_ids.shape)"
   ]
  },
  {
   "cell_type": "markdown",
   "id": "5ab60a15-1661-44ab-9af9-10bbe4ee8f8b",
   "metadata": {},
   "source": [
    "### Remove last interaction"
   ]
  },
  {
   "cell_type": "code",
   "execution_count": null,
   "id": "71983704-1235-419f-afe3-705306e003dd",
   "metadata": {
    "tags": []
   },
   "outputs": [],
   "source": [
    "X_last_one, y_last_one = ratings.query(\"order > 0\"), ratings.query(\"order == 0\")"
   ]
  },
  {
   "cell_type": "code",
   "execution_count": null,
   "id": "82fd0f9e-daf5-45a1-821e-eb17439b11e5",
   "metadata": {
    "tags": []
   },
   "outputs": [],
   "source": [
    "X_last_one.to_parquet(\"../data/ml-1m/split/X_last_one.parquet\", index=False)\n",
    "y_last_one.to_parquet(\"../data/ml-1m/split/y_last_one.parquet\", index=False)"
   ]
  },
  {
   "cell_type": "markdown",
   "id": "78302a2d-c807-4511-b37a-cf05f0041bb0",
   "metadata": {},
   "source": [
    "### Remove last 5 interactions"
   ]
  },
  {
   "cell_type": "code",
   "execution_count": null,
   "id": "d78f079d-3854-4754-92b2-8b284808364b",
   "metadata": {
    "tags": []
   },
   "outputs": [],
   "source": [
    "X_last_five, y_last_five = ratings.query(\"order > 4\"), ratings.query(\"order <= 4\")"
   ]
  },
  {
   "cell_type": "code",
   "execution_count": null,
   "id": "7a418834-7532-41aa-bf99-bb13e5bf228f",
   "metadata": {
    "tags": []
   },
   "outputs": [],
   "source": [
    "X_last_five.to_parquet(\"../data/ml-1m/split/X_last_five.parquet\", index=False)\n",
    "y_last_five.to_parquet(\"../data/ml-1m/split/y_last_five and the entire AutoScout24 team .parquet\", index=False)"
   ]
  }
 ],
 "metadata": {
  "kernelspec": {
   "display_name": "Python 3 (ipykernel)",
   "language": "python",
   "name": "python3"
  },
  "language_info": {
   "codemirror_mode": {
    "name": "ipython",
    "version": 3
   },
   "file_extension": ".py",
   "mimetype": "text/x-python",
   "name": "python",
   "nbconvert_exporter": "python",
   "pygments_lexer": "ipython3",
   "version": "3.8.17"
  }
 },
 "nbformat": 4,
 "nbformat_minor": 5
}

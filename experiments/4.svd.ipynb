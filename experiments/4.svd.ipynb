{
 "cells": [
  {
   "cell_type": "code",
   "execution_count": null,
   "id": "1b55640a-f44c-4d85-be7a-694d7267fa1c",
   "metadata": {
    "tags": []
   },
   "outputs": [],
   "source": [
    "%load_ext autoreload\n",
    "%autoreload 2"
   ]
  },
  {
   "cell_type": "code",
   "execution_count": null,
   "id": "13244b6e-75d8-464c-ab06-322ba88c6e03",
   "metadata": {
    "tags": []
   },
   "outputs": [],
   "source": [
    "import pandas as pd\n",
    "import numpy as np\n",
    "from tqdm import tqdm\n",
    "import scipy.sparse as scs\n",
    "\n",
    "from recsys.utils import col\n",
    "from recsys.metrics import ndcg_score, get_ndcg, get_apak"
   ]
  },
  {
   "cell_type": "markdown",
   "id": "d781fce9-4709-4c6b-9a2e-482f3a159729",
   "metadata": {},
   "source": [
    "### Last one"
   ]
  },
  {
   "cell_type": "code",
   "execution_count": null,
   "id": "fe2d26e2-f192-4c81-9cbe-acb1bb89f27a",
   "metadata": {
    "tags": []
   },
   "outputs": [],
   "source": [
    "X = pd.read_parquet(\"../data/ml-1m/split/X_last_one.parquet\")\n",
    "y = pd.read_parquet(\"../data/ml-1m/split/y_last_one.parquet\")"
   ]
  },
  {
   "cell_type": "code",
   "execution_count": null,
   "id": "2ae03af1-b3f6-48c2-82cb-252cbccb3a13",
   "metadata": {
    "tags": []
   },
   "outputs": [],
   "source": [
    "most_popular = X[col.movie_code].value_counts().index.tolist()\n",
    "user_ids = X[col.user_code].unique()\n",
    "y_true = y[col.movie_code].to_numpy().reshape(-1, 1)"
   ]
  },
  {
   "cell_type": "code",
   "execution_count": null,
   "id": "01f562e4-c96d-4209-b32c-25c24424fbb8",
   "metadata": {
    "tags": []
   },
   "outputs": [],
   "source": [
    "user_movie_matrix = scs.coo_matrix(\n",
    "    (X[col.rating], (X[col.user_code], X[col.movie_code]))\n",
    ").tocsr()"
   ]
  },
  {
   "cell_type": "code",
   "execution_count": null,
   "id": "405fef08-6b0a-4a86-b4fa-b51bfecea1e6",
   "metadata": {
    "tags": []
   },
   "outputs": [],
   "source": [
    "user_factors, _, movie_factors = scs.linalg.svds(\n",
    "    user_movie_matrix.astype(float),\n",
    "    128,\n",
    ")\n",
    "movie_factors = movie_factors.T"
   ]
  },
  {
   "cell_type": "code",
   "execution_count": null,
   "id": "e128ae8c-5613-457b-9902-bab0d7a19910",
   "metadata": {
    "tags": []
   },
   "outputs": [],
   "source": [
    "retrieval = user_factors.dot(movie_factors.T)\n",
    "retrieval[user_movie_matrix.nonzero()] = -1\n",
    "retrieval = np.argsort(retrieval, axis=1)[:, ::-1]\n",
    "\n",
    "y_pred = retrieval[:, :10]"
   ]
  },
  {
   "cell_type": "code",
   "execution_count": null,
   "id": "e6a7f474-9b2b-42cb-932b-ca24d450c3d4",
   "metadata": {
    "tags": []
   },
   "outputs": [],
   "source": [
    "ndcg_score(y_true, y_pred)"
   ]
  },
  {
   "cell_type": "markdown",
   "id": "54eebe6a-21bf-4db2-83ba-ddeda2748cba",
   "metadata": {},
   "source": [
    "### Last five"
   ]
  },
  {
   "cell_type": "code",
   "execution_count": null,
   "id": "98eb86fe-50ab-4f61-b169-8fb4b1d5ba24",
   "metadata": {
    "tags": []
   },
   "outputs": [],
   "source": [
    "X = pd.read_parquet(\"../data/ml-1m/split/X_last_five.parquet\")\n",
    "y = pd.read_parquet(\"../data/ml-1m/split/y_last_five.parquet\")"
   ]
  },
  {
   "cell_type": "code",
   "execution_count": null,
   "id": "349a1ebc-f14b-43e5-802a-48546c00f826",
   "metadata": {
    "tags": []
   },
   "outputs": [],
   "source": [
    "most_popular = X[col.movie_code].value_counts().index.tolist()\n",
    "user_ids = X[col.user_code].unique()\n",
    "y_true = np.array(\n",
    "    y.groupby(col.user_code)[col.movie_code].unique().apply(list).tolist()\n",
    ")"
   ]
  },
  {
   "cell_type": "code",
   "execution_count": null,
   "id": "ed3d20c1-38da-4840-b348-09773f626d76",
   "metadata": {
    "tags": []
   },
   "outputs": [],
   "source": [
    "user_movie_matrix = scs.coo_matrix(\n",
    "    (X[col.rating], (X[col.user_code], X[col.movie_code]))\n",
    ").tocsr()"
   ]
  },
  {
   "cell_type": "code",
   "execution_count": null,
   "id": "1ab67934-e8f5-4c22-b1aa-548898e5e0e0",
   "metadata": {
    "tags": []
   },
   "outputs": [],
   "source": [
    "user_factors, _, movie_factors = scs.linalg.svds(\n",
    "    user_movie_matrix.astype(float),\n",
    "    128,\n",
    ")\n",
    "movie_factors = movie_factors.T"
   ]
  },
  {
   "cell_type": "code",
   "execution_count": null,
   "id": "4faf6f75-6daf-4f86-9812-1002c3404638",
   "metadata": {
    "tags": []
   },
   "outputs": [],
   "source": [
    "retrieval = user_factors.dot(movie_factors.T)\n",
    "retrieval[user_movie_matrix.nonzero()] = -1\n",
    "retrieval = np.argsort(retrieval, axis=1)[:, ::-1]\n",
    "\n",
    "y_pred = retrieval[:, :10]"
   ]
  },
  {
   "cell_type": "code",
   "execution_count": null,
   "id": "9f76fb4f-4646-4be0-be1b-25a1e3148bd1",
   "metadata": {
    "tags": []
   },
   "outputs": [],
   "source": [
    "ndcg_score(y_true, y_pred)"
   ]
  }
 ],
 "metadata": {
  "kernelspec": {
   "display_name": "Python 3 (ipykernel)",
   "language": "python",
   "name": "python3"
  },
  "language_info": {
   "codemirror_mode": {
    "name": "ipython",
    "version": 3
   },
   "file_extension": ".py",
   "mimetype": "text/x-python",
   "name": "python",
   "nbconvert_exporter": "python",
   "pygments_lexer": "ipython3",
   "version": "3.8.17"
  }
 },
 "nbformat": 4,
 "nbformat_minor": 5
}

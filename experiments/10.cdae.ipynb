{
 "cells": [
  {
   "cell_type": "code",
   "execution_count": null,
   "id": "1b55640a-f44c-4d85-be7a-694d7267fa1c",
   "metadata": {
    "tags": []
   },
   "outputs": [],
   "source": [
    "%load_ext autoreload\n",
    "%autoreload 2"
   ]
  },
  {
   "cell_type": "code",
   "execution_count": null,
   "id": "13244b6e-75d8-464c-ab06-322ba88c6e03",
   "metadata": {
    "tags": []
   },
   "outputs": [],
   "source": [
    "import pandas as pd\n",
    "import numpy as np\n",
    "from tqdm.notebook import tqdm\n",
    "import scipy.sparse as scs\n",
    "import torch\n",
    "import torch.nn.functional as F\n",
    "\n",
    "from recsys.utils import col\n",
    "from recsys.metrics import ndcg_score, hr_score\n",
    "from recsys.models.ae import CDAE"
   ]
  },
  {
   "cell_type": "code",
   "execution_count": null,
   "id": "8f86a442-ddb0-455e-b233-7265f551dc1e",
   "metadata": {
    "tags": []
   },
   "outputs": [],
   "source": [
    "device = \"cuda\"\n",
    "torch.set_default_device(device)"
   ]
  },
  {
   "cell_type": "markdown",
   "id": "d781fce9-4709-4c6b-9a2e-482f3a159729",
   "metadata": {},
   "source": [
    "### Last one"
   ]
  },
  {
   "cell_type": "code",
   "execution_count": null,
   "id": "fe2d26e2-f192-4c81-9cbe-acb1bb89f27a",
   "metadata": {
    "tags": []
   },
   "outputs": [],
   "source": [
    "X = pd.read_parquet(\"../data/ml-1m/split/X_last_one.parquet\")\n",
    "y = pd.read_parquet(\"../data/ml-1m/split/y_last_one.parquet\")"
   ]
  },
  {
   "cell_type": "code",
   "execution_count": null,
   "id": "5a5eb723-e44c-464a-ba2f-c4722312fdfd",
   "metadata": {
    "tags": []
   },
   "outputs": [],
   "source": [
    "y_true = y[[col.movie_code]].to_numpy()\n",
    "\n",
    "test_array = np.hstack([y_true, np.array(y[col.negative].apply(list).tolist())])"
   ]
  },
  {
   "cell_type": "code",
   "execution_count": null,
   "id": "c05e6012-574d-43a8-af7a-bb189c6a2ac6",
   "metadata": {
    "tags": []
   },
   "outputs": [],
   "source": [
    "user_movie_matrix = scs.csr_matrix(\n",
    "    (X[col.rating], (X[col.user_code], X[col.movie_code]))\n",
    ")\n",
    "\n",
    "user_movie_matrix[user_movie_matrix.nonzero()] = 1"
   ]
  },
  {
   "cell_type": "code",
   "execution_count": null,
   "id": "b90edbce-da79-4578-9968-38547fcefe30",
   "metadata": {
    "tags": []
   },
   "outputs": [],
   "source": [
    "train_data = torch.utils.data.DataLoader(\n",
    "    np.hstack(\n",
    "        [\n",
    "            np.arange(user_movie_matrix.shape[0]).reshape(-1, 1),\n",
    "            user_movie_matrix.todense(),\n",
    "        ]\n",
    "    ),\n",
    "    batch_size=256,\n",
    "    shuffle=True,\n",
    "    generator=torch.Generator(device=device),\n",
    ")\n",
    "\n",
    "test_data = torch.utils.data.DataLoader(\n",
    "    np.hstack(\n",
    "        [\n",
    "            np.arange(user_movie_matrix.shape[0]).reshape(-1, 1),\n",
    "            user_movie_matrix.todense(),\n",
    "        ]\n",
    "    ),\n",
    "    batch_size=512,\n",
    "    generator=torch.Generator(device=device),\n",
    ")"
   ]
  },
  {
   "cell_type": "code",
   "execution_count": null,
   "id": "16b7b01a-efb6-4aa7-9dfd-9af010837e42",
   "metadata": {
    "tags": []
   },
   "outputs": [],
   "source": [
    "model = CDAE(*user_movie_matrix.shape, 512, 0.2).to(device)"
   ]
  },
  {
   "cell_type": "code",
   "execution_count": null,
   "id": "4a473d30-e36f-446a-b656-03f2097bf02b",
   "metadata": {
    "tags": []
   },
   "outputs": [],
   "source": [
    "import torch\n",
    "import torch.nn as nn\n",
    "import torch.optim as optim\n",
    "\n",
    "# Define your model\n",
    "criterion = nn.BCEWithLogitsLoss()  # Choose your desired loss function\n",
    "optimizer = optim.Adam(model.parameters(), lr=1e-2)\n",
    "num_epochs = 50\n",
    "\n",
    "# Define the gradient clipping value\n",
    "max_norm = 1.0\n",
    "\n",
    "# Training loop\n",
    "train_losses = []\n",
    "for epoch in tqdm(range(num_epochs)):\n",
    "    model.train()\n",
    "    running_losses = 0\n",
    "\n",
    "    for inputs in tqdm(train_data):\n",
    "        inputs = inputs.squeeze(1)\n",
    "        uids, mids = inputs[:, 0], inputs[:, 1:]\n",
    "        optimizer.zero_grad()\n",
    "        outputs = model(uids, mids.float())\n",
    "        loss = criterion(outputs, mids.float())\n",
    "        loss.backward()\n",
    "\n",
    "        # Perform gradient clipping\n",
    "        torch.nn.utils.clip_grad_norm_(model.parameters(), max_norm)\n",
    "\n",
    "        optimizer.step()\n",
    "\n",
    "        train_losses.append(loss.detach().item())\n",
    "        running_losses += loss.detach().item()\n",
    "\n",
    "    epoch_loss = running_losses / len(train_data)\n",
    "\n",
    "    retrieval = []\n",
    "    model.eval()\n",
    "    with torch.no_grad():\n",
    "        for inputs in test_data:\n",
    "            inputs = inputs.squeeze(1)\n",
    "            uids, mids = inputs[:, 0], inputs[:, 1:]\n",
    "            scores = model(uids, mids.float())\n",
    "            retrieval.append(scores.cpu().numpy())\n",
    "\n",
    "        retrieval = np.take_along_axis(np.vstack(retrieval), test_array, axis=1)\n",
    "\n",
    "        y_pred = np.take_along_axis(\n",
    "            test_array,\n",
    "            np.argsort(retrieval, axis=1)[:, ::-1],\n",
    "            axis=1,\n",
    "        )[:, :10]\n",
    "\n",
    "    print(\n",
    "        f\"epoch [{epoch+1}/{num_epochs}], loss: {epoch_loss:.4f}, ndcg: {ndcg_score(y_true, y_pred):.4f}, hr: {hr_score(y_true, y_pred):.4f}\"\n",
    "    )"
   ]
  }
 ],
 "metadata": {
  "kernelspec": {
   "display_name": "Python 3 (ipykernel)",
   "language": "python",
   "name": "python3"
  },
  "language_info": {
   "codemirror_mode": {
    "name": "ipython",
    "version": 3
   },
   "file_extension": ".py",
   "mimetype": "text/x-python",
   "name": "python",
   "nbconvert_exporter": "python",
   "pygments_lexer": "ipython3",
   "version": "3.8.17"
  }
 },
 "nbformat": 4,
 "nbformat_minor": 5
}

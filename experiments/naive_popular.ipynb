{
 "cells": [
  {
   "cell_type": "code",
   "execution_count": null,
   "id": "1b55640a-f44c-4d85-be7a-694d7267fa1c",
   "metadata": {
    "tags": []
   },
   "outputs": [],
   "source": [
    "%load_ext autoreload\n",
    "%autoreload 2"
   ]
  },
  {
   "cell_type": "code",
   "execution_count": null,
   "id": "13244b6e-75d8-464c-ab06-322ba88c6e03",
   "metadata": {
    "tags": []
   },
   "outputs": [],
   "source": [
    "import pandas as pd\n",
    "import numpy as np\n",
    "from tqdm import tqdm\n",
    "\n",
    "from recsys.utils import col\n",
    "from recsys.metrics import ndcg_score"
   ]
  },
  {
   "cell_type": "markdown",
   "id": "d781fce9-4709-4c6b-9a2e-482f3a159729",
   "metadata": {},
   "source": [
    "### Last one"
   ]
  },
  {
   "cell_type": "code",
   "execution_count": null,
   "id": "fe2d26e2-f192-4c81-9cbe-acb1bb89f27a",
   "metadata": {
    "tags": []
   },
   "outputs": [],
   "source": [
    "X = pd.read_parquet(\"../data/ml-1m/split/X_last_one.parquet\")\n",
    "y = pd.read_parquet(\"../data/ml-1m/split/y_last_one.parquet\")"
   ]
  },
  {
   "cell_type": "code",
   "execution_count": null,
   "id": "2ae03af1-b3f6-48c2-82cb-252cbccb3a13",
   "metadata": {
    "tags": []
   },
   "outputs": [],
   "source": [
    "most_popular = X[col.movie_id].value_counts().index.tolist()\n",
    "user_ids = X[col.user_id].unique()\n",
    "y_true = y[col.movie_id].to_numpy().reshape(-1, 1)"
   ]
  },
  {
   "cell_type": "code",
   "execution_count": null,
   "id": "5c459ee7-1c3f-4b7a-b77d-835229c92699",
   "metadata": {
    "tags": []
   },
   "outputs": [],
   "source": [
    "interacted = X.groupby(col.user_id)[col.movie_id].unique().to_dict()"
   ]
  },
  {
   "cell_type": "code",
   "execution_count": null,
   "id": "44778ce8-8d4d-4056-ab96-66b7c3d9e73c",
   "metadata": {
    "tags": []
   },
   "outputs": [],
   "source": [
    "interacted = X.groupby(col.user_id)[col.movie_id].unique().apply(list).tolist()"
   ]
  },
  {
   "cell_type": "code",
   "execution_count": null,
   "id": "265fd150-5685-429c-825d-f24057a002ef",
   "metadata": {
    "tags": []
   },
   "outputs": [],
   "source": [
    "recommended = []\n",
    "for uid in tqdm(user_ids):\n",
    "    mids = interacted[uid]\n",
    "    rec = [i for i in most_popular if i not in mids][:10]\n",
    "    recommended.append(rec)"
   ]
  },
  {
   "cell_type": "code",
   "execution_count": null,
   "id": "00b87207-e1a4-4009-a44d-2f50b4d3096b",
   "metadata": {},
   "outputs": [],
   "source": [
    "y_pred = np.array(recommended)"
   ]
  },
  {
   "cell_type": "code",
   "execution_count": null,
   "id": "6f77e01c-cf81-4d46-a3cf-0138d8580a9f",
   "metadata": {
    "tags": []
   },
   "outputs": [],
   "source": [
    "ndcg_score(y_true, y_pred)"
   ]
  },
  {
   "cell_type": "markdown",
   "id": "0a6c3d61-053e-4a50-bf74-4f341721c87b",
   "metadata": {},
   "source": [
    "### Last five"
   ]
  },
  {
   "cell_type": "code",
   "execution_count": null,
   "id": "f8c769f3-f3ed-4dde-b8db-f4ef519a6f91",
   "metadata": {
    "tags": []
   },
   "outputs": [],
   "source": [
    "X = pd.read_parquet(\"../data/ml-1m/split/X_last_five.parquet\")\n",
    "y = pd.read_parquet(\"../data/ml-1m/split/y_last_five.parquet\")"
   ]
  },
  {
   "cell_type": "code",
   "execution_count": null,
   "id": "4309eeb3-57bc-4466-9621-8dbea070943c",
   "metadata": {
    "tags": []
   },
   "outputs": [],
   "source": [
    "most_popular = X[col.movie_id].value_counts().index.tolist()\n",
    "user_ids = X[col.user_id].unique()\n",
    "y_true = np.array(y.groupby(col.user_id)[col.movie_id].unique().apply(list).tolist())\n",
    "\n",
    "y_true[:3]"
   ]
  },
  {
   "cell_type": "code",
   "execution_count": null,
   "id": "07adf477-193e-499e-a22d-5fd90e7ccde7",
   "metadata": {
    "tags": []
   },
   "outputs": [],
   "source": [
    "interacted = X.groupby(col.user_id)[col.movie_id].unique().to_dict()"
   ]
  },
  {
   "cell_type": "code",
   "execution_count": null,
   "id": "7dd3d033-7957-4cb9-bf40-79588542e782",
   "metadata": {
    "tags": []
   },
   "outputs": [],
   "source": [
    "recommended = []\n",
    "for uid in tqdm(user_ids):\n",
    "    mids = interacted[uid]\n",
    "    rec = [i for i in most_popular if i not in mids][:10]\n",
    "    recommended.append(rec)"
   ]
  },
  {
   "cell_type": "code",
   "execution_count": null,
   "id": "47d9ea61-8ae4-4c4b-b2ce-38652736eaf8",
   "metadata": {},
   "outputs": [],
   "source": [
    "y_pred = np.array(recommended)"
   ]
  },
  {
   "cell_type": "code",
   "execution_count": null,
   "id": "455f97a6-93e7-401e-8582-c28108ab2e23",
   "metadata": {
    "tags": []
   },
   "outputs": [],
   "source": [
    "ndcg_score(y_true, y_pred)"
   ]
  }
 ],
 "metadata": {
  "kernelspec": {
   "display_name": "Python 3 (ipykernel)",
   "language": "python",
   "name": "python3"
  },
  "language_info": {
   "codemirror_mode": {
    "name": "ipython",
    "version": 3
   },
   "file_extension": ".py",
   "mimetype": "text/x-python",
   "name": "python",
   "nbconvert_exporter": "python",
   "pygments_lexer": "ipython3",
   "version": "3.8.17"
  }
 },
 "nbformat": 4,
 "nbformat_minor": 5
}

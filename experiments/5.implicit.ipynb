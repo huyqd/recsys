{
 "cells": [
  {
   "cell_type": "code",
   "execution_count": null,
   "id": "1b55640a-f44c-4d85-be7a-694d7267fa1c",
   "metadata": {
    "tags": []
   },
   "outputs": [],
   "source": [
    "%load_ext autoreload\n",
    "%autoreload 2"
   ]
  },
  {
   "cell_type": "code",
   "execution_count": null,
   "id": "13244b6e-75d8-464c-ab06-322ba88c6e03",
   "metadata": {
    "tags": []
   },
   "outputs": [],
   "source": [
    "import pandas as pd\n",
    "import numpy as np\n",
    "from tqdm import tqdm\n",
    "import implicit\n",
    "import scipy.sparse as scs\n",
    "\n",
    "from recsys.utils import col\n",
    "from recsys.metrics import ndcg_score, hr_score"
   ]
  },
  {
   "cell_type": "markdown",
   "id": "d781fce9-4709-4c6b-9a2e-482f3a159729",
   "metadata": {
    "tags": []
   },
   "source": [
    "### Last one"
   ]
  },
  {
   "cell_type": "code",
   "execution_count": null,
   "id": "fe2d26e2-f192-4c81-9cbe-acb1bb89f27a",
   "metadata": {
    "tags": []
   },
   "outputs": [],
   "source": [
    "X = pd.read_parquet(\"../data/ml-1m/split/X_last_one.parquet\")\n",
    "y = pd.read_parquet(\"../data/ml-1m/split/y_last_one.parquet\")"
   ]
  },
  {
   "cell_type": "code",
   "execution_count": null,
   "id": "b7abebca-6d6b-470a-9d7b-0887a001f662",
   "metadata": {
    "tags": []
   },
   "outputs": [],
   "source": [
    "y_true = y[[col.movie_code]].to_numpy()\n",
    "\n",
    "test_array = np.hstack([y_true, np.array(y[col.negative].apply(list).tolist())])\n",
    "\n",
    "user_movie_matrix = scs.csr_matrix(\n",
    "    (X[col.rating], (X[col.user_code], X[col.movie_code]))\n",
    ")"
   ]
  },
  {
   "cell_type": "code",
   "execution_count": null,
   "id": "405fef08-6b0a-4a86-b4fa-b51bfecea1e6",
   "metadata": {
    "tags": []
   },
   "outputs": [],
   "source": [
    "model = implicit.als.AlternatingLeastSquares(\n",
    "    factors=128,\n",
    "    iterations=100,\n",
    "    use_gpu=True,\n",
    "    calculate_training_loss=True\n",
    ")\n",
    "\n",
    "model.fit(user_movie_matrix)"
   ]
  },
  {
   "cell_type": "code",
   "execution_count": null,
   "id": "aadfbc05-85d2-487a-bea0-2378fe54c2a1",
   "metadata": {
    "tags": []
   },
   "outputs": [],
   "source": [
    "y_pred = []\n",
    "for uid in tqdm(np.arange(user_movie_matrix.shape[0])):\n",
    "    pred, score = model.recommend(\n",
    "        uid,\n",
    "        user_items=user_movie_matrix[uid],\n",
    "        items=test_array[uid],\n",
    "    )\n",
    "    y_pred.append(pred)\n",
    "    \n",
    "y_pred = np.array(y_pred)"
   ]
  },
  {
   "cell_type": "code",
   "execution_count": null,
   "id": "e6a7f474-9b2b-42cb-932b-ca24d450c3d4",
   "metadata": {
    "tags": []
   },
   "outputs": [],
   "source": [
    "ndcg_score(y_true, y_pred)"
   ]
  },
  {
   "cell_type": "code",
   "execution_count": null,
   "id": "115036f7-df0d-4b71-b2fe-dabed7728d5e",
   "metadata": {
    "tags": []
   },
   "outputs": [],
   "source": [
    "hr_score(y_true, y_pred)"
   ]
  },
  {
   "cell_type": "markdown",
   "id": "54eebe6a-21bf-4db2-83ba-ddeda2748cba",
   "metadata": {
    "tags": []
   },
   "source": [
    "### Last five"
   ]
  },
  {
   "cell_type": "code",
   "execution_count": null,
   "id": "98eb86fe-50ab-4f61-b169-8fb4b1d5ba24",
   "metadata": {
    "tags": []
   },
   "outputs": [],
   "source": [
    "X = pd.read_parquet(\"../data/ml-1m/split/X_last_five.parquet\")\n",
    "y = pd.read_parquet(\"../data/ml-1m/split/y_last_five.parquet\")"
   ]
  },
  {
   "cell_type": "code",
   "execution_count": null,
   "id": "349a1ebc-f14b-43e5-802a-48546c00f826",
   "metadata": {
    "tags": []
   },
   "outputs": [],
   "source": [
    "most_popular = X[col.movie_code].value_counts().index.tolist()\n",
    "user_ids = X[col.user_code].unique()\n",
    "y_true = np.array(\n",
    "    y.groupby(col.user_code)[col.movie_code].unique().apply(list).tolist()\n",
    ")"
   ]
  },
  {
   "cell_type": "code",
   "execution_count": null,
   "id": "ed3d20c1-38da-4840-b348-09773f626d76",
   "metadata": {
    "tags": []
   },
   "outputs": [],
   "source": [
    "user_movie_matrix = scs.coo_matrix(\n",
    "    (X[col.rating], (X[col.user_code], X[col.movie_code]))\n",
    ").tocsr()"
   ]
  },
  {
   "cell_type": "code",
   "execution_count": null,
   "id": "c8b062b9-017b-4ddc-9ec7-4a95664c5902",
   "metadata": {
    "tags": []
   },
   "outputs": [],
   "source": [
    "embedding_dim = 128\n",
    "\n",
    "model = implicit.als.AlternatingLeastSquares(\n",
    "    factors=embedding_dim,\n",
    "    iterations=50,\n",
    ")\n",
    "\n",
    "model.fit(user_movie_matrix)"
   ]
  },
  {
   "cell_type": "code",
   "execution_count": null,
   "id": "99ee127a-8e9c-481f-ab63-ac96db88b822",
   "metadata": {
    "tags": []
   },
   "outputs": [],
   "source": [
    "y_pred, y_score = model.recommend(\n",
    "    X[col.user_code].unique(), user_items=user_movie_matrix\n",
    ")"
   ]
  },
  {
   "cell_type": "code",
   "execution_count": null,
   "id": "9f76fb4f-4646-4be0-be1b-25a1e3148bd1",
   "metadata": {
    "tags": []
   },
   "outputs": [],
   "source": [
    "ndcg_score(y_true, y_pred)"
   ]
  }
 ],
 "metadata": {
  "kernelspec": {
   "display_name": "Python 3 (ipykernel)",
   "language": "python",
   "name": "python3"
  },
  "language_info": {
   "codemirror_mode": {
    "name": "ipython",
    "version": 3
   },
   "file_extension": ".py",
   "mimetype": "text/x-python",
   "name": "python",
   "nbconvert_exporter": "python",
   "pygments_lexer": "ipython3",
   "version": "3.8.17"
  }
 },
 "nbformat": 4,
 "nbformat_minor": 5
}

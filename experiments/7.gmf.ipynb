{
 "cells": [
  {
   "cell_type": "code",
   "execution_count": null,
   "id": "1b55640a-f44c-4d85-be7a-694d7267fa1c",
   "metadata": {
    "tags": []
   },
   "outputs": [],
   "source": [
    "%load_ext autoreload\n",
    "%autoreload 2"
   ]
  },
  {
   "cell_type": "code",
   "execution_count": null,
   "id": "13244b6e-75d8-464c-ab06-322ba88c6e03",
   "metadata": {
    "tags": []
   },
   "outputs": [],
   "source": [
    "import pandas as pd\n",
    "import numpy as np\n",
    "from tqdm.notebook import tqdm\n",
    "import scipy.sparse as scs\n",
    "import torch\n",
    "import torch.nn.functional as F\n",
    "\n",
    "from recsys.utils import col\n",
    "from recsys.metrics import ndcg_score, get_ndcg, get_apak\n",
    "from recsys.models.nn import GMF"
   ]
  },
  {
   "cell_type": "code",
   "execution_count": null,
   "id": "8f86a442-ddb0-455e-b233-7265f551dc1e",
   "metadata": {
    "tags": []
   },
   "outputs": [],
   "source": [
    "device = \"cuda\"\n",
    "torch.set_default_device(device)"
   ]
  },
  {
   "cell_type": "markdown",
   "id": "d781fce9-4709-4c6b-9a2e-482f3a159729",
   "metadata": {},
   "source": [
    "### Last one"
   ]
  },
  {
   "cell_type": "code",
   "execution_count": null,
   "id": "fe2d26e2-f192-4c81-9cbe-acb1bb89f27a",
   "metadata": {
    "tags": []
   },
   "outputs": [],
   "source": [
    "X = pd.read_parquet(\"../data/ml-1m/split/X_last_one.parquet\")\n",
    "y = pd.read_parquet(\"../data/ml-1m/split/y_last_one.parquet\")"
   ]
  },
  {
   "cell_type": "code",
   "execution_count": null,
   "id": "2ae03af1-b3f6-48c2-82cb-252cbccb3a13",
   "metadata": {
    "tags": []
   },
   "outputs": [],
   "source": [
    "y_true = y[col.movie_code].to_numpy().reshape(-1, 1)"
   ]
  },
  {
   "cell_type": "code",
   "execution_count": null,
   "id": "e2a73e59-2c7a-476c-944c-07b30cafda5c",
   "metadata": {
    "tags": []
   },
   "outputs": [],
   "source": [
    "user_movie_matrix = scs.coo_matrix(\n",
    "    (X[col.rating], (X[col.user_code], X[col.movie_code]))\n",
    ").tocsr()\n",
    "\n",
    "user_movie_matrix[user_movie_matrix.nonzero()] = 1"
   ]
  },
  {
   "cell_type": "code",
   "execution_count": null,
   "id": "b90edbce-da79-4578-9968-38547fcefe30",
   "metadata": {
    "tags": []
   },
   "outputs": [],
   "source": [
    "train_data = torch.utils.data.DataLoader(\n",
    "    np.hstack(\n",
    "        [\n",
    "            np.arange(user_movie_matrix.shape[0]).reshape(-1, 1),\n",
    "            user_movie_matrix.todense(),\n",
    "        ]\n",
    "    ),\n",
    "    batch_size=32,\n",
    "    shuffle=True,\n",
    "    generator=torch.Generator(device=device),\n",
    ")"
   ]
  },
  {
   "cell_type": "markdown",
   "id": "aea34c05-2177-444d-ae98-5d177ea2f150",
   "metadata": {},
   "source": [
    "#### GMF"
   ]
  },
  {
   "cell_type": "code",
   "execution_count": null,
   "id": "16b7b01a-efb6-4aa7-9dfd-9af010837e42",
   "metadata": {
    "tags": []
   },
   "outputs": [],
   "source": [
    "model = GMF(*user_movie_matrix.shape, 128).to(device)"
   ]
  },
  {
   "cell_type": "code",
   "execution_count": null,
   "id": "8daacb24-49f9-4c45-a8db-594adec26235",
   "metadata": {
    "tags": []
   },
   "outputs": [],
   "source": [
    "import torch\n",
    "import torch.nn as nn\n",
    "import torch.optim as optim\n",
    "\n",
    "# Define your model\n",
    "criterion = nn.BCEWithLogitsLoss()  # Choose your desired loss function\n",
    "optimizer = optim.SGD(model.parameters(), lr=0.0001)\n",
    "num_epochs = 50\n",
    "\n",
    "# Define the gradient clipping value\n",
    "max_norm = 1.0\n",
    "\n",
    "# Training loop\n",
    "train_losses = []\n",
    "for epoch in tqdm(range(num_epochs)):\n",
    "    model.train()\n",
    "    running_losses = 0\n",
    "\n",
    "    for inputs in train_data:\n",
    "        inputs = inputs.squeeze(1)\n",
    "        uids, labels = inputs[:, 0], inputs[:, 1:]\n",
    "        optimizer.zero_grad()\n",
    "        outputs = model(uids)\n",
    "        loss = criterion(outputs, labels.float())\n",
    "        loss.backward()\n",
    "\n",
    "        # Perform gradient clipping\n",
    "        torch.nn.utils.clip_grad_norm_(model.parameters(), max_norm)\n",
    "\n",
    "        optimizer.step()\n",
    "\n",
    "        train_losses.append(loss.detach().item())\n",
    "        running_losses += loss.detach().item()\n",
    "\n",
    "    epoch_loss = running_losses / len(train_data)\n",
    "\n",
    "    # Print the loss for each epoch\n",
    "    # if epoch % 20 == 0 or epoch == num_epochs - 1:\n",
    "    print(f\"Epoch [{epoch+1}/{num_epochs}], Loss: {epoch_loss:.4f}\")"
   ]
  },
  {
   "cell_type": "code",
   "execution_count": null,
   "id": "fb24a8db-0242-4d2d-9a55-8a1bb047f5b8",
   "metadata": {
    "tags": []
   },
   "outputs": [],
   "source": [
    "scores = []\n",
    "orders = []\n",
    "with torch.no_grad():\n",
    "    for inputs in train_data:\n",
    "        inputs = inputs.squeeze(1)\n",
    "        uids, labels = inputs[:, 0], inputs[:, 1:]\n",
    "        orders.append(uids.cpu().numpy())\n",
    "        scores.append(F.softmax(model(uids), dim=1).cpu().numpy())\n",
    "\n",
    "retrieval =  np.vstack(scores)[np.argsort(np.hstack(orders))]\n",
    "retrieval[user_movie_matrix.nonzero()] = -1\n",
    "retrieval = np.argsort(retrieval, axis=1)[:, ::-1]\n",
    "\n",
    "y_pred = retrieval[:, :10]\n",
    "\n",
    "ndcg_score(y_true, y_pred)"
   ]
  }
 ],
 "metadata": {
  "kernelspec": {
   "display_name": "Python 3 (ipykernel)",
   "language": "python",
   "name": "python3"
  },
  "language_info": {
   "codemirror_mode": {
    "name": "ipython",
    "version": 3
   },
   "file_extension": ".py",
   "mimetype": "text/x-python",
   "name": "python",
   "nbconvert_exporter": "python",
   "pygments_lexer": "ipython3",
   "version": "3.8.17"
  }
 },
 "nbformat": 4,
 "nbformat_minor": 5
}

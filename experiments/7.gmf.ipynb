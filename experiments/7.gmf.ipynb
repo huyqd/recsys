{
 "cells": [
  {
   "cell_type": "code",
   "execution_count": 19,
   "id": "1b55640a-f44c-4d85-be7a-694d7267fa1c",
   "metadata": {
    "tags": []
   },
   "outputs": [
    {
     "name": "stdout",
     "output_type": "stream",
     "text": [
      "The autoreload extension is already loaded. To reload it, use:\n",
      "  %reload_ext autoreload\n"
     ]
    }
   ],
   "source": [
    "%load_ext autoreload\n",
    "%autoreload 2"
   ]
  },
  {
   "cell_type": "code",
   "execution_count": 20,
   "id": "13244b6e-75d8-464c-ab06-322ba88c6e03",
   "metadata": {
    "tags": []
   },
   "outputs": [],
   "source": [
    "import pandas as pd\n",
    "import numpy as np\n",
    "from tqdm.notebook import tqdm\n",
    "import scipy.sparse as scs\n",
    "import torch\n",
    "import torch.nn.functional as F\n",
    "\n",
    "from recsys.utils import col\n",
    "from recsys.metrics import ndcg_score, get_ndcg, get_apak\n",
    "from recsys.models.nn import GMF"
   ]
  },
  {
   "cell_type": "code",
   "execution_count": 21,
   "id": "8f86a442-ddb0-455e-b233-7265f551dc1e",
   "metadata": {
    "tags": []
   },
   "outputs": [],
   "source": [
    "device = \"cuda\"\n",
    "torch.set_default_device(device)"
   ]
  },
  {
   "cell_type": "markdown",
   "id": "d781fce9-4709-4c6b-9a2e-482f3a159729",
   "metadata": {},
   "source": [
    "### Last one"
   ]
  },
  {
   "cell_type": "code",
   "execution_count": 22,
   "id": "fe2d26e2-f192-4c81-9cbe-acb1bb89f27a",
   "metadata": {
    "tags": []
   },
   "outputs": [],
   "source": [
    "X = pd.read_parquet(\"../data/ml-1m/split/X_last_one.parquet\")\n",
    "y = pd.read_parquet(\"../data/ml-1m/split/y_last_one.parquet\")"
   ]
  },
  {
   "cell_type": "code",
   "execution_count": 23,
   "id": "2ae03af1-b3f6-48c2-82cb-252cbccb3a13",
   "metadata": {
    "tags": []
   },
   "outputs": [],
   "source": [
    "y_true = y[col.movie_code].to_numpy().reshape(-1, 1)"
   ]
  },
  {
   "cell_type": "code",
   "execution_count": 14,
   "id": "e2a73e59-2c7a-476c-944c-07b30cafda5c",
   "metadata": {
    "tags": []
   },
   "outputs": [],
   "source": [
    "user_movie_matrix = scs.coo_matrix(\n",
    "    (X[col.rating], (X[col.user_code], X[col.movie_code]))\n",
    ").tocsr()\n",
    "\n",
    "user_movie_matrix[user_movie_matrix.nonzero()] = 1"
   ]
  },
  {
   "cell_type": "code",
   "execution_count": 15,
   "id": "b90edbce-da79-4578-9968-38547fcefe30",
   "metadata": {
    "tags": []
   },
   "outputs": [],
   "source": [
    "train_data = torch.utils.data.DataLoader(\n",
    "    np.hstack(\n",
    "        [\n",
    "            np.arange(user_movie_matrix.shape[0]).reshape(-1, 1),\n",
    "            user_movie_matrix.todense(),\n",
    "        ]\n",
    "    ),\n",
    "    batch_size=32,\n",
    "    shuffle=True,\n",
    "    generator=torch.Generator(device=device),\n",
    ")"
   ]
  },
  {
   "cell_type": "markdown",
   "id": "aea34c05-2177-444d-ae98-5d177ea2f150",
   "metadata": {},
   "source": [
    "#### GMF"
   ]
  },
  {
   "cell_type": "code",
   "execution_count": 16,
   "id": "16b7b01a-efb6-4aa7-9dfd-9af010837e42",
   "metadata": {
    "tags": []
   },
   "outputs": [],
   "source": [
    "model = GMF(*user_movie_matrix.shape, 8).to(device)"
   ]
  },
  {
   "cell_type": "code",
   "execution_count": 18,
   "id": "4a473d30-e36f-446a-b656-03f2097bf02b",
   "metadata": {
    "tags": []
   },
   "outputs": [
    {
     "data": {
      "application/vnd.jupyter.widget-view+json": {
       "model_id": "efe7405eb259468189f7f8b73d4f0ce7",
       "version_major": 2,
       "version_minor": 0
      },
      "text/plain": [
       "  0%|          | 0/200 [00:00<?, ?it/s]"
      ]
     },
     "metadata": {},
     "output_type": "display_data"
    },
    {
     "name": "stdout",
     "output_type": "stream",
     "text": [
      "Epoch [1/200], Loss: 0.5138, NDCG: 0.0004\n",
      "Epoch [21/200], Loss: 0.4041, NDCG: 0.0008\n",
      "Epoch [41/200], Loss: 0.3245, NDCG: 0.0008\n",
      "Epoch [61/200], Loss: 0.2677, NDCG: 0.0015\n",
      "Epoch [81/200], Loss: 0.2289, NDCG: 0.0025\n",
      "Epoch [101/200], Loss: 0.2039, NDCG: 0.0031\n",
      "Epoch [121/200], Loss: 0.1895, NDCG: 0.0043\n"
     ]
    },
    {
     "ename": "KeyboardInterrupt",
     "evalue": "",
     "output_type": "error",
     "traceback": [
      "\u001b[0;31m---------------------------------------------------------------------------\u001b[0m",
      "\u001b[0;31mKeyboardInterrupt\u001b[0m                         Traceback (most recent call last)",
      "Cell \u001b[0;32mIn[18], line 46\u001b[0m\n\u001b[1;32m     44\u001b[0m         uids, labels \u001b[38;5;241m=\u001b[39m inputs[:, \u001b[38;5;241m0\u001b[39m], inputs[:, \u001b[38;5;241m1\u001b[39m:]\n\u001b[1;32m     45\u001b[0m         orders\u001b[38;5;241m.\u001b[39mappend(uids\u001b[38;5;241m.\u001b[39mcpu()\u001b[38;5;241m.\u001b[39mnumpy())\n\u001b[0;32m---> 46\u001b[0m         scores\u001b[38;5;241m.\u001b[39mappend(\u001b[43mF\u001b[49m\u001b[38;5;241;43m.\u001b[39;49m\u001b[43msoftmax\u001b[49m\u001b[43m(\u001b[49m\u001b[43mmodel\u001b[49m\u001b[43m(\u001b[49m\u001b[43muids\u001b[49m\u001b[43m)\u001b[49m\u001b[43m,\u001b[49m\u001b[43m \u001b[49m\u001b[43mdim\u001b[49m\u001b[38;5;241;43m=\u001b[39;49m\u001b[38;5;241;43m1\u001b[39;49m\u001b[43m)\u001b[49m\u001b[38;5;241;43m.\u001b[39;49m\u001b[43mcpu\u001b[49m\u001b[43m(\u001b[49m\u001b[43m)\u001b[49m\u001b[38;5;241m.\u001b[39mnumpy())\n\u001b[1;32m     48\u001b[0m retrieval \u001b[38;5;241m=\u001b[39m np\u001b[38;5;241m.\u001b[39mvstack(scores)[np\u001b[38;5;241m.\u001b[39margsort(np\u001b[38;5;241m.\u001b[39mhstack(orders))]\n\u001b[1;32m     49\u001b[0m retrieval[user_movie_matrix\u001b[38;5;241m.\u001b[39mnonzero()] \u001b[38;5;241m=\u001b[39m \u001b[38;5;241m-\u001b[39m\u001b[38;5;241m1\u001b[39m\n",
      "File \u001b[0;32m~/miniconda3/envs/ds/lib/python3.8/site-packages/torch/utils/_device.py:62\u001b[0m, in \u001b[0;36mDeviceContext.__torch_function__\u001b[0;34m(self, func, types, args, kwargs)\u001b[0m\n\u001b[1;32m     60\u001b[0m \u001b[38;5;28;01mif\u001b[39;00m func \u001b[38;5;129;01min\u001b[39;00m _device_constructors() \u001b[38;5;129;01mand\u001b[39;00m kwargs\u001b[38;5;241m.\u001b[39mget(\u001b[38;5;124m'\u001b[39m\u001b[38;5;124mdevice\u001b[39m\u001b[38;5;124m'\u001b[39m) \u001b[38;5;129;01mis\u001b[39;00m \u001b[38;5;28;01mNone\u001b[39;00m:\n\u001b[1;32m     61\u001b[0m     kwargs[\u001b[38;5;124m'\u001b[39m\u001b[38;5;124mdevice\u001b[39m\u001b[38;5;124m'\u001b[39m] \u001b[38;5;241m=\u001b[39m \u001b[38;5;28mself\u001b[39m\u001b[38;5;241m.\u001b[39mdevice\n\u001b[0;32m---> 62\u001b[0m \u001b[38;5;28;01mreturn\u001b[39;00m \u001b[43mfunc\u001b[49m\u001b[43m(\u001b[49m\u001b[38;5;241;43m*\u001b[39;49m\u001b[43margs\u001b[49m\u001b[43m,\u001b[49m\u001b[43m \u001b[49m\u001b[38;5;241;43m*\u001b[39;49m\u001b[38;5;241;43m*\u001b[39;49m\u001b[43mkwargs\u001b[49m\u001b[43m)\u001b[49m\n",
      "\u001b[0;31mKeyboardInterrupt\u001b[0m: "
     ]
    }
   ],
   "source": [
    "import torch\n",
    "import torch.nn as nn\n",
    "import torch.optim as optim\n",
    "\n",
    "# Define your model\n",
    "criterion = nn.BCEWithLogitsLoss()  # Choose your desired loss function\n",
    "optimizer = optim.Adam(model.parameters(), lr=0.0001)\n",
    "num_epochs = 200\n",
    "\n",
    "# Define the gradient clipping value\n",
    "max_norm = 1.0\n",
    "\n",
    "# Training loop\n",
    "train_losses = []\n",
    "for epoch in tqdm(range(num_epochs)):\n",
    "    model.train()\n",
    "    running_losses = 0\n",
    "\n",
    "    for inputs in train_data:\n",
    "        inputs = inputs.squeeze(1)\n",
    "        uids, labels = inputs[:, 0], inputs[:, 1:]\n",
    "        optimizer.zero_grad()\n",
    "        outputs = model(uids)\n",
    "        loss = criterion(outputs, labels.float())\n",
    "        loss.backward()\n",
    "\n",
    "        # Perform gradient clipping\n",
    "        # torch.nn.utils.clip_grad_norm_(model.parameters(), max_norm)\n",
    "\n",
    "        optimizer.step()\n",
    "\n",
    "        train_losses.append(loss.detach().item())\n",
    "        running_losses += loss.detach().item()\n",
    "\n",
    "    epoch_loss = running_losses / len(train_data)\n",
    "\n",
    "    # Print the loss for each epoch\n",
    "    if epoch % 20 == 0 or epoch == num_epochs - 1:\n",
    "        scores = []\n",
    "        orders = []\n",
    "        with torch.no_grad():\n",
    "            for inputs in train_data:\n",
    "                inputs = inputs.squeeze(1)\n",
    "                uids, labels = inputs[:, 0], inputs[:, 1:]\n",
    "                orders.append(uids.cpu().numpy())\n",
    "                scores.append(F.softmax(model(uids), dim=1).cpu().numpy())\n",
    "\n",
    "        retrieval = np.vstack(scores)[np.argsort(np.hstack(orders))]\n",
    "        retrieval[user_movie_matrix.nonzero()] = -1\n",
    "        retrieval = np.argsort(retrieval, axis=1)[:, ::-1]\n",
    "\n",
    "        y_pred = retrieval[:, :10]\n",
    "\n",
    "        print(\n",
    "            f\"Epoch [{epoch+1}/{num_epochs}], Loss: {epoch_loss:.4f}, NDCG: {ndcg_score(y_true, y_pred):.4f}\"\n",
    "        )"
   ]
  }
 ],
 "metadata": {
  "kernelspec": {
   "display_name": "Python 3 (ipykernel)",
   "language": "python",
   "name": "python3"
  },
  "language_info": {
   "codemirror_mode": {
    "name": "ipython",
    "version": 3
   },
   "file_extension": ".py",
   "mimetype": "text/x-python",
   "name": "python",
   "nbconvert_exporter": "python",
   "pygments_lexer": "ipython3",
   "version": "3.8.17"
  }
 },
 "nbformat": 4,
 "nbformat_minor": 5
}

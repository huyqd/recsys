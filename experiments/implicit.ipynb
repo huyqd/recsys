{
 "cells": [
  {
   "cell_type": "code",
   "execution_count": null,
   "id": "1b55640a-f44c-4d85-be7a-694d7267fa1c",
   "metadata": {
    "tags": []
   },
   "outputs": [],
   "source": [
    "%load_ext autoreload\n",
    "%autoreload 2"
   ]
  },
  {
   "cell_type": "code",
   "execution_count": null,
   "id": "13244b6e-75d8-464c-ab06-322ba88c6e03",
   "metadata": {
    "tags": []
   },
   "outputs": [],
   "source": [
    "import pandas as pd\n",
    "import numpy as np\n",
    "from tqdm import tqdm\n",
    "\n",
    "from recsys.utils import col\n",
    "from recsys.metrics import ndcg_score"
   ]
  },
  {
   "cell_type": "markdown",
   "id": "d781fce9-4709-4c6b-9a2e-482f3a159729",
   "metadata": {},
   "source": [
    "### Last one"
   ]
  },
  {
   "cell_type": "code",
   "execution_count": null,
   "id": "fe2d26e2-f192-4c81-9cbe-acb1bb89f27a",
   "metadata": {
    "tags": []
   },
   "outputs": [],
   "source": [
    "X = pd.read_parquet(\"../data/ml-1m/split/X_last_one.parquet\")\n",
    "y = pd.read_parquet(\"../data/ml-1m/split/y_last_one.parquet\")"
   ]
  },
  {
   "cell_type": "code",
   "execution_count": null,
   "id": "2ae03af1-b3f6-48c2-82cb-252cbccb3a13",
   "metadata": {
    "tags": []
   },
   "outputs": [],
   "source": [
    "most_popular = X[col.movie_id].value_counts().index.tolist()\n",
    "user_ids = X[col.user_id].unique()\n",
    "y_true = y[col.movie_id].to_numpy().reshape(-1, 1)"
   ]
  },
  {
   "cell_type": "code",
   "execution_count": null,
   "id": "5c459ee7-1c3f-4b7a-b77d-835229c92699",
   "metadata": {
    "tags": []
   },
   "outputs": [],
   "source": [
    "interacted = X.groupby(col.user_id)[col.movie_id].unique().to_dict()"
   ]
  }
 ],
 "metadata": {
  "kernelspec": {
   "display_name": "Python 3 (ipykernel)",
   "language": "python",
   "name": "python3"
  },
  "language_info": {
   "codemirror_mode": {
    "name": "ipython",
    "version": 3
   },
   "file_extension": ".py",
   "mimetype": "text/x-python",
   "name": "python",
   "nbconvert_exporter": "python",
   "pygments_lexer": "ipython3",
   "version": "3.8.17"
  }
 },
 "nbformat": 4,
 "nbformat_minor": 5
}

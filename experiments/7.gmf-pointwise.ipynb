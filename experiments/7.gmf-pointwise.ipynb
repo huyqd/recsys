{
 "cells": [
  {
   "cell_type": "code",
   "execution_count": null,
   "id": "1b55640a-f44c-4d85-be7a-694d7267fa1c",
   "metadata": {
    "tags": []
   },
   "outputs": [],
   "source": [
    "%load_ext autoreload\n",
    "%autoreload 2"
   ]
  },
  {
   "cell_type": "code",
   "execution_count": null,
   "id": "13244b6e-75d8-464c-ab06-322ba88c6e03",
   "metadata": {
    "tags": []
   },
   "outputs": [],
   "source": [
    "import pandas as pd\n",
    "import numpy as np\n",
    "from tqdm.notebook import tqdm\n",
    "import scipy.sparse as scs\n",
    "import torch\n",
    "import torch.nn.functional as F\n",
    "\n",
    "from recsys.utils import col\n",
    "from recsys.metrics import ndcg_score, get_ndcg, get_apak\n",
    "from recsys.models.nn import GMF, GMFPointwise"
   ]
  },
  {
   "cell_type": "code",
   "execution_count": null,
   "id": "8f86a442-ddb0-455e-b233-7265f551dc1e",
   "metadata": {
    "tags": []
   },
   "outputs": [],
   "source": [
    "device = \"cuda\"\n",
    "torch.set_default_device(device)"
   ]
  },
  {
   "cell_type": "markdown",
   "id": "d781fce9-4709-4c6b-9a2e-482f3a159729",
   "metadata": {},
   "source": [
    "### Last one"
   ]
  },
  {
   "cell_type": "code",
   "execution_count": null,
   "id": "fe2d26e2-f192-4c81-9cbe-acb1bb89f27a",
   "metadata": {
    "tags": []
   },
   "outputs": [],
   "source": [
    "X = pd.read_parquet(\"../data/ml-1m/split/X_last_one.parquet\")\n",
    "y = pd.read_parquet(\"../data/ml-1m/split/y_last_one.parquet\")"
   ]
  },
  {
   "cell_type": "code",
   "execution_count": null,
   "id": "5163ff45-359f-43fa-aab3-17626597dd43",
   "metadata": {
    "tags": []
   },
   "outputs": [],
   "source": [
    "y_true = y[[col.movie_code]].to_numpy()\n",
    "\n",
    "test_array = np.hstack([y_true, np.array(y[col.negative].apply(list).tolist())])\n",
    "\n",
    "test_data = torch.utils.data.DataLoader(\n",
    "    np.vstack(\n",
    "        [np.arange(y_true.shape[0]).repeat(test_array.shape[1]), test_array.flatten()]\n",
    "    ).T,\n",
    "    batch_size=2048,\n",
    "    generator=torch.Generator(device=device),\n",
    ")"
   ]
  },
  {
   "cell_type": "code",
   "execution_count": null,
   "id": "e2a73e59-2c7a-476c-944c-07b30cafda5c",
   "metadata": {
    "tags": []
   },
   "outputs": [],
   "source": [
    "user_movie_matrix = scs.csr_matrix(\n",
    "    (X[col.rating], (X[col.user_code], X[col.movie_code]))\n",
    ")\n",
    "\n",
    "user_movie_matrix[user_movie_matrix.nonzero()] = 1"
   ]
  },
  {
   "cell_type": "code",
   "execution_count": null,
   "id": "39b0993d-2b99-413a-98c9-0298d5ccc352",
   "metadata": {
    "tags": []
   },
   "outputs": [],
   "source": [
    "negative_samples = user_movie_matrix.sum(axis=0).repeat(\n",
    "    user_movie_matrix.shape[0], axis=0\n",
    ")\n",
    "negative_samples[user_movie_matrix.nonzero()] = -1\n",
    "negative_samples = np.asarray(np.argsort(negative_samples, axis=1)[:, ::-1])[:, :500]"
   ]
  },
  {
   "cell_type": "code",
   "execution_count": null,
   "id": "7ff28994-04ae-4370-a4f9-b4e940123aa7",
   "metadata": {
    "tags": []
   },
   "outputs": [],
   "source": [
    "train_positives = np.hstack(\n",
    "    [\n",
    "        X[[col.user_code, col.movie_code]].astype(int).values,\n",
    "        np.ones((X.shape[0], 1), dtype=int),\n",
    "    ],\n",
    "    dtype=int,\n",
    ")"
   ]
  },
  {
   "cell_type": "code",
   "execution_count": null,
   "id": "a4df8c08-533a-4de2-b6b1-1345194af84c",
   "metadata": {
    "tags": []
   },
   "outputs": [],
   "source": [
    "def train_dataloader(X, negative_samples, n_negatives):\n",
    "    row_negatives = X[col.user_code].values.repeat(n_negatives)\n",
    "    col_negatives = np.random.randint(0, negative_samples.shape[1], row_negatives.shape[0])\n",
    "\n",
    "    train_negatives = np.vstack(\n",
    "        [\n",
    "            row_negatives,\n",
    "            negative_samples[row_negatives, col_negatives],\n",
    "            np.zeros(row_negatives.shape[0])\n",
    "        ]\n",
    "    ).T\n",
    "\n",
    "    train_data = torch.utils.data.DataLoader(\n",
    "        np.vstack(\n",
    "            [\n",
    "                train_positives,\n",
    "                train_negatives,\n",
    "            ]\n",
    "        ),\n",
    "        batch_size=1024,\n",
    "        shuffle=True,\n",
    "        generator=torch.Generator(device=device),\n",
    "    )\n",
    "    \n",
    "    return train_data"
   ]
  },
  {
   "cell_type": "markdown",
   "id": "aea34c05-2177-444d-ae98-5d177ea2f150",
   "metadata": {},
   "source": [
    "#### GMF"
   ]
  },
  {
   "cell_type": "code",
   "execution_count": null,
   "id": "16b7b01a-efb6-4aa7-9dfd-9af010837e42",
   "metadata": {
    "tags": []
   },
   "outputs": [],
   "source": [
    "model = GMFPointwise(*user_movie_matrix.shape, 8).to(device)"
   ]
  },
  {
   "cell_type": "code",
   "execution_count": null,
   "id": "4a473d30-e36f-446a-b656-03f2097bf02b",
   "metadata": {
    "tags": []
   },
   "outputs": [],
   "source": [
    "import torch\n",
    "import torch.nn as nn\n",
    "import torch.optim as optim\n",
    "\n",
    "# Define your model\n",
    "criterion = nn.BCEWithLogitsLoss()  # Choose your desired loss function\n",
    "optimizer = optim.Adam(model.parameters(), lr=1e-3)\n",
    "num_epochs = 20\n",
    "n_negatives = 4\n",
    "\n",
    "# Define the gradient clipping value\n",
    "max_norm = 1.0\n",
    "\n",
    "# Training loop\n",
    "train_losses = []\n",
    "for epoch in tqdm(range(num_epochs)):\n",
    "    model.train()\n",
    "    running_losses = 0\n",
    "\n",
    "    train_data = train_dataloader(X, negative_samples, n_negatives)\n",
    "\n",
    "    for inputs in tqdm(train_data):\n",
    "        inputs = inputs.squeeze(1)\n",
    "        uids, mids, labels = inputs.int().chunk(3, dim=1)\n",
    "        optimizer.zero_grad()\n",
    "        outputs = model(uids.squeeze(), mids.squeeze())\n",
    "        loss = criterion(outputs, labels.float())\n",
    "        loss.backward()\n",
    "\n",
    "        # Perform gradient clipping\n",
    "        torch.nn.utils.clip_grad_norm_(model.parameters(), max_norm)\n",
    "\n",
    "        optimizer.step()\n",
    "\n",
    "        train_losses.append(loss.detach().item())\n",
    "        running_losses += loss.detach().item()\n",
    "\n",
    "    epoch_loss = running_losses / len(train_data)\n",
    "\n",
    "    retrieval = []\n",
    "\n",
    "    model.eval()\n",
    "    with torch.no_grad():\n",
    "        for inputs in tqdm(test_data):\n",
    "            uids, mids = inputs.chunk(2, dim=1)\n",
    "            scores = model(uids.squeeze(), mids.squeeze())\n",
    "            retrieval.append(scores.cpu().numpy())\n",
    "\n",
    "    y_pred = np.take_along_axis(\n",
    "        test_array,\n",
    "        np.argsort(np.vstack(retrieval).reshape(-1, test_array.shape[1]))[:, ::-1],\n",
    "        axis=1,\n",
    "    )[:, :10]\n",
    "\n",
    "    print(\n",
    "        f\"Epoch [{epoch+1}/{num_epochs}], Loss: {epoch_loss:.4f}, NDCG: {ndcg_score(y_true, y_pred):.4f}\"\n",
    "    )"
   ]
  }
 ],
 "metadata": {
  "kernelspec": {
   "display_name": "Python 3 (ipykernel)",
   "language": "python",
   "name": "python3"
  },
  "language_info": {
   "codemirror_mode": {
    "name": "ipython",
    "version": 3
   },
   "file_extension": ".py",
   "mimetype": "text/x-python",
   "name": "python",
   "nbconvert_exporter": "python",
   "pygments_lexer": "ipython3",
   "version": "3.8.17"
  }
 },
 "nbformat": 4,
 "nbformat_minor": 5
}
